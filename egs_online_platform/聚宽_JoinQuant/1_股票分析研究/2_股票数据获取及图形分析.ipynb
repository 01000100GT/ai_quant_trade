{
 "cells": [
  {
   "cell_type": "markdown",
   "metadata": {},
   "source": [
    "# 1. 股票数据获取"
   ]
  },
  {
   "cell_type": "markdown",
   "metadata": {},
   "source": [
    "## 1.1 基础数据获取"
   ]
  },
  {
   "cell_type": "code",
   "execution_count": 2,
   "metadata": {},
   "outputs": [],
   "source": [
    " # 获取股票代码\n",
    "    q = query(valuation.code)"
   ]
  },
  {
   "cell_type": "code",
   "execution_count": 3,
   "metadata": {},
   "outputs": [],
   "source": [
    "df = get_fundamentals(q)"
   ]
  },
  {
   "cell_type": "code",
   "execution_count": 4,
   "metadata": {},
   "outputs": [
    {
     "data": {
      "text/plain": [
       "(4724, 1)"
      ]
     },
     "execution_count": 4,
     "metadata": {},
     "output_type": "execute_result"
    }
   ],
   "source": [
    "df.shape"
   ]
  },
  {
   "cell_type": "code",
   "execution_count": 4,
   "metadata": {},
   "outputs": [
    {
     "data": {
      "text/html": [
       "<div>\n",
       "<style scoped>\n",
       "    .dataframe tbody tr th:only-of-type {\n",
       "        vertical-align: middle;\n",
       "    }\n",
       "\n",
       "    .dataframe tbody tr th {\n",
       "        vertical-align: top;\n",
       "    }\n",
       "\n",
       "    .dataframe thead th {\n",
       "        text-align: right;\n",
       "    }\n",
       "</style>\n",
       "<table border=\"1\" class=\"dataframe\">\n",
       "  <thead>\n",
       "    <tr style=\"text-align: right;\">\n",
       "      <th></th>\n",
       "      <th>code</th>\n",
       "    </tr>\n",
       "  </thead>\n",
       "  <tbody>\n",
       "    <tr>\n",
       "      <th>0</th>\n",
       "      <td>000001.XSHE</td>\n",
       "    </tr>\n",
       "    <tr>\n",
       "      <th>1</th>\n",
       "      <td>000002.XSHE</td>\n",
       "    </tr>\n",
       "    <tr>\n",
       "      <th>2</th>\n",
       "      <td>000004.XSHE</td>\n",
       "    </tr>\n",
       "    <tr>\n",
       "      <th>3</th>\n",
       "      <td>000005.XSHE</td>\n",
       "    </tr>\n",
       "    <tr>\n",
       "      <th>4</th>\n",
       "      <td>000006.XSHE</td>\n",
       "    </tr>\n",
       "  </tbody>\n",
       "</table>\n",
       "</div>"
      ],
      "text/plain": [
       "          code\n",
       "0  000001.XSHE\n",
       "1  000002.XSHE\n",
       "2  000004.XSHE\n",
       "3  000005.XSHE\n",
       "4  000006.XSHE"
      ]
     },
     "execution_count": 4,
     "metadata": {},
     "output_type": "execute_result"
    }
   ],
   "source": [
    "df.head()"
   ]
  },
  {
   "cell_type": "code",
   "execution_count": 2,
   "metadata": {},
   "outputs": [],
   "source": [
    " # 要操作的股票：平安银行（g.为全局变量）\n",
    "security = '000001.XSHE'"
   ]
  },
  {
   "cell_type": "code",
   "execution_count": 8,
   "metadata": {},
   "outputs": [],
   "source": [
    "# 获取股票的100天长期收盘价\n",
    "close_data = get_bars(security, count=100, unit='1d', fields=['close'])"
   ]
  },
  {
   "cell_type": "code",
   "execution_count": 11,
   "metadata": {},
   "outputs": [
    {
     "data": {
      "text/plain": [
       "array([(17.19,), (17.41,), (17.0,), (16.98,), (16.33,), (16.22,),\n",
       "       (16.52,), (16.5,), (17.33,), (17.35,), (17.2,), (16.85,), (16.65,),\n",
       "       (16.3,), (15.83,), (16.39,), (16.83,), (16.86,), (16.99,), (17.1,),\n",
       "       (16.58,), (16.28,), (16.41,), (16.42,), (16.77,), (16.51,),\n",
       "       (16.23,), (16.19,), (15.91,), (15.9,), (15.75,), (15.92,),\n",
       "       (15.68,), (15.71,), (15.33,), (14.72,), (14.31,), (13.84,),\n",
       "       (14.57,), (14.9,), (14.49,), (13.68,), (14.31,), (14.45,), (14.7,),\n",
       "       (14.59,), (15.18,), (15.0,), (15.2,), (14.98,), (14.85,), (14.68,),\n",
       "       (15.21,), (15.38,), (15.75,), (16.39,), (16.28,), (16.4,),\n",
       "       (16.05,), (15.92,), (15.8,), (16.04,), (16.42,), (15.9,), (15.81,),\n",
       "       (15.85,), (15.81,), (16.06,), (14.85,), (14.73,), (15.65,),\n",
       "       (15.65,), (15.32,), (15.32,), (14.96,), (14.55,), (14.59,),\n",
       "       (14.63,), (14.38,), (14.61,), (14.41,), (14.71,), (14.75,),\n",
       "       (14.62,), (15.02,), (14.83,), (14.4,), (14.39,), (14.19,),\n",
       "       (14.18,), (14.08,), (14.16,), (14.08,), (13.95,), (14.17,),\n",
       "       (14.16,), (14.16,), (14.35,), (14.32,), (13.91,)],\n",
       "      dtype=(numpy.record, [('close', '<f8')]))"
      ]
     },
     "execution_count": 11,
     "metadata": {},
     "output_type": "execute_result"
    }
   ],
   "source": [
    "close_data"
   ]
  },
  {
   "cell_type": "code",
   "execution_count": null,
   "metadata": {},
   "outputs": [],
   "source": [
    "# ==========================================="
   ]
  },
  {
   "cell_type": "code",
   "execution_count": 5,
   "metadata": {},
   "outputs": [
    {
     "data": {
      "text/html": [
       "<div>\n",
       "<style scoped>\n",
       "    .dataframe tbody tr th:only-of-type {\n",
       "        vertical-align: middle;\n",
       "    }\n",
       "\n",
       "    .dataframe tbody tr th {\n",
       "        vertical-align: top;\n",
       "    }\n",
       "\n",
       "    .dataframe thead th {\n",
       "        text-align: right;\n",
       "    }\n",
       "</style>\n",
       "<table border=\"1\" class=\"dataframe\">\n",
       "  <thead>\n",
       "    <tr style=\"text-align: right;\">\n",
       "      <th></th>\n",
       "      <th>open</th>\n",
       "      <th>close</th>\n",
       "      <th>high</th>\n",
       "      <th>low</th>\n",
       "      <th>volume</th>\n",
       "      <th>money</th>\n",
       "    </tr>\n",
       "  </thead>\n",
       "  <tbody>\n",
       "    <tr>\n",
       "      <th>2022-03-01</th>\n",
       "      <td>15.79</td>\n",
       "      <td>15.92</td>\n",
       "      <td>15.95</td>\n",
       "      <td>15.62</td>\n",
       "      <td>93504034.0</td>\n",
       "      <td>1.474694e+09</td>\n",
       "    </tr>\n",
       "    <tr>\n",
       "      <th>2022-03-02</th>\n",
       "      <td>15.79</td>\n",
       "      <td>15.68</td>\n",
       "      <td>15.87</td>\n",
       "      <td>15.66</td>\n",
       "      <td>76076086.0</td>\n",
       "      <td>1.196322e+09</td>\n",
       "    </tr>\n",
       "    <tr>\n",
       "      <th>2022-03-03</th>\n",
       "      <td>15.73</td>\n",
       "      <td>15.71</td>\n",
       "      <td>15.81</td>\n",
       "      <td>15.63</td>\n",
       "      <td>57828505.0</td>\n",
       "      <td>9.081716e+08</td>\n",
       "    </tr>\n",
       "    <tr>\n",
       "      <th>2022-03-04</th>\n",
       "      <td>15.62</td>\n",
       "      <td>15.33</td>\n",
       "      <td>15.63</td>\n",
       "      <td>15.28</td>\n",
       "      <td>99093566.0</td>\n",
       "      <td>1.523794e+09</td>\n",
       "    </tr>\n",
       "    <tr>\n",
       "      <th>2022-03-07</th>\n",
       "      <td>15.17</td>\n",
       "      <td>14.72</td>\n",
       "      <td>15.17</td>\n",
       "      <td>14.66</td>\n",
       "      <td>111315899.0</td>\n",
       "      <td>1.655960e+09</td>\n",
       "    </tr>\n",
       "  </tbody>\n",
       "</table>\n",
       "</div>"
      ],
      "text/plain": [
       "             open  close   high    low       volume         money\n",
       "2022-03-01  15.79  15.92  15.95  15.62   93504034.0  1.474694e+09\n",
       "2022-03-02  15.79  15.68  15.87  15.66   76076086.0  1.196322e+09\n",
       "2022-03-03  15.73  15.71  15.81  15.63   57828505.0  9.081716e+08\n",
       "2022-03-04  15.62  15.33  15.63  15.28   99093566.0  1.523794e+09\n",
       "2022-03-07  15.17  14.72  15.17  14.66  111315899.0  1.655960e+09"
      ]
     },
     "execution_count": 5,
     "metadata": {},
     "output_type": "execute_result"
    }
   ],
   "source": [
    "# 如果获取分钟数据， datatime.datetime(2019,1,1,10,0,0)或者'2019-01-01 10:00:00'\n",
    "# end_date如果只有日期，则日内时间等同于00:00:00，则不包括end_date这一天\n",
    "# frequency: daily(1天)， minute(1分钟)， Xd(x天), Xm(x分钟)\n",
    "# fields：要获取的字段，默认['open', 'close', 'high', 'low', 'volume', 'money']\n",
    "# skip_paused:是否跳过不交易日期（包括停牌、未上市或者退市后的日期），不跳过，\n",
    "#    停牌是会使用停牌前的数据填充，上市前或退市后数据都为nan\n",
    "# fq: pre: 前复权， None：不复权， post: 后复权\n",
    "df = get_price(security, start_date='2022-03-01',end_date='2022-06-10', \n",
    "               frequency='daily', skip_paused=True, fq='pre')\n",
    "df.head()"
   ]
  },
  {
   "cell_type": "markdown",
   "metadata": {},
   "source": [
    "## 1.2 数据操作"
   ]
  },
  {
   "cell_type": "code",
   "execution_count": 7,
   "metadata": {},
   "outputs": [
    {
     "data": {
      "text/html": [
       "<div>\n",
       "<style scoped>\n",
       "    .dataframe tbody tr th:only-of-type {\n",
       "        vertical-align: middle;\n",
       "    }\n",
       "\n",
       "    .dataframe tbody tr th {\n",
       "        vertical-align: top;\n",
       "    }\n",
       "\n",
       "    .dataframe thead th {\n",
       "        text-align: right;\n",
       "    }\n",
       "</style>\n",
       "<table border=\"1\" class=\"dataframe\">\n",
       "  <thead>\n",
       "    <tr style=\"text-align: right;\">\n",
       "      <th></th>\n",
       "      <th>open</th>\n",
       "      <th>close</th>\n",
       "      <th>high</th>\n",
       "    </tr>\n",
       "  </thead>\n",
       "  <tbody>\n",
       "    <tr>\n",
       "      <th>2022-03-01</th>\n",
       "      <td>15.79</td>\n",
       "      <td>15.92</td>\n",
       "      <td>15.95</td>\n",
       "    </tr>\n",
       "    <tr>\n",
       "      <th>2022-03-02</th>\n",
       "      <td>15.79</td>\n",
       "      <td>15.68</td>\n",
       "      <td>15.87</td>\n",
       "    </tr>\n",
       "    <tr>\n",
       "      <th>2022-03-03</th>\n",
       "      <td>15.73</td>\n",
       "      <td>15.71</td>\n",
       "      <td>15.81</td>\n",
       "    </tr>\n",
       "    <tr>\n",
       "      <th>2022-03-04</th>\n",
       "      <td>15.62</td>\n",
       "      <td>15.33</td>\n",
       "      <td>15.63</td>\n",
       "    </tr>\n",
       "    <tr>\n",
       "      <th>2022-03-07</th>\n",
       "      <td>15.17</td>\n",
       "      <td>14.72</td>\n",
       "      <td>15.17</td>\n",
       "    </tr>\n",
       "  </tbody>\n",
       "</table>\n",
       "</div>"
      ],
      "text/plain": [
       "             open  close   high\n",
       "2022-03-01  15.79  15.92  15.95\n",
       "2022-03-02  15.79  15.68  15.87\n",
       "2022-03-03  15.73  15.71  15.81\n",
       "2022-03-04  15.62  15.33  15.63\n",
       "2022-03-07  15.17  14.72  15.17"
      ]
     },
     "execution_count": 7,
     "metadata": {},
     "output_type": "execute_result"
    }
   ],
   "source": [
    "# 只显示 open, close, high\n",
    "df[['open', 'close', 'high']].head()"
   ]
  },
  {
   "cell_type": "code",
   "execution_count": 9,
   "metadata": {},
   "outputs": [
    {
     "data": {
      "text/plain": [
       "2022-03-01    15.79\n",
       "2022-03-02    15.79\n",
       "2022-03-03    15.73\n",
       "2022-03-04    15.62\n",
       "2022-03-07    15.17\n",
       "Name: open, dtype: float64"
      ]
     },
     "execution_count": 9,
     "metadata": {},
     "output_type": "execute_result"
    }
   ],
   "source": [
    "# 选取open列数据, loc为location简写， loc[行标签，列标签]\n",
    "df.loc[:, 'open'].head()"
   ]
  },
  {
   "cell_type": "code",
   "execution_count": 12,
   "metadata": {},
   "outputs": [
    {
     "data": {
      "text/plain": [
       "open      1.579000e+01\n",
       "close     1.592000e+01\n",
       "high      1.595000e+01\n",
       "low       1.562000e+01\n",
       "volume    9.350403e+07\n",
       "money     1.474694e+09\n",
       "Name: 2022-03-01 00:00:00, dtype: float64"
      ]
     },
     "execution_count": 12,
     "metadata": {},
     "output_type": "execute_result"
    }
   ],
   "source": [
    "# 获取3月1号数据\n",
    "df.loc[\"2022-03-01\"]"
   ]
  },
  {
   "cell_type": "code",
   "execution_count": 13,
   "metadata": {},
   "outputs": [
    {
     "data": {
      "text/plain": [
       "2022-03-01    15.92\n",
       "2022-03-02    15.68\n",
       "2022-03-03    15.71\n",
       "Name: close, dtype: float64"
      ]
     },
     "execution_count": 13,
     "metadata": {},
     "output_type": "execute_result"
    }
   ],
   "source": [
    "df.loc[\"2022-03-01\":\"2022-03-03\", \"close\"]"
   ]
  },
  {
   "cell_type": "code",
   "execution_count": 14,
   "metadata": {},
   "outputs": [
    {
     "data": {
      "text/html": [
       "<div>\n",
       "<style scoped>\n",
       "    .dataframe tbody tr th:only-of-type {\n",
       "        vertical-align: middle;\n",
       "    }\n",
       "\n",
       "    .dataframe tbody tr th {\n",
       "        vertical-align: top;\n",
       "    }\n",
       "\n",
       "    .dataframe thead th {\n",
       "        text-align: right;\n",
       "    }\n",
       "</style>\n",
       "<table border=\"1\" class=\"dataframe\">\n",
       "  <thead>\n",
       "    <tr style=\"text-align: right;\">\n",
       "      <th></th>\n",
       "      <th>open</th>\n",
       "      <th>close</th>\n",
       "      <th>high</th>\n",
       "      <th>low</th>\n",
       "      <th>volume</th>\n",
       "      <th>money</th>\n",
       "    </tr>\n",
       "  </thead>\n",
       "  <tbody>\n",
       "    <tr>\n",
       "      <th>2022-03-02</th>\n",
       "      <td>15.79</td>\n",
       "      <td>15.68</td>\n",
       "      <td>15.87</td>\n",
       "      <td>15.66</td>\n",
       "      <td>76076086.0</td>\n",
       "      <td>1.196322e+09</td>\n",
       "    </tr>\n",
       "    <tr>\n",
       "      <th>2022-03-03</th>\n",
       "      <td>15.73</td>\n",
       "      <td>15.71</td>\n",
       "      <td>15.81</td>\n",
       "      <td>15.63</td>\n",
       "      <td>57828505.0</td>\n",
       "      <td>9.081716e+08</td>\n",
       "    </tr>\n",
       "    <tr>\n",
       "      <th>2022-04-19</th>\n",
       "      <td>15.90</td>\n",
       "      <td>15.81</td>\n",
       "      <td>15.97</td>\n",
       "      <td>15.62</td>\n",
       "      <td>82177249.0</td>\n",
       "      <td>1.294227e+09</td>\n",
       "    </tr>\n",
       "    <tr>\n",
       "      <th>2022-04-20</th>\n",
       "      <td>15.81</td>\n",
       "      <td>15.85</td>\n",
       "      <td>16.05</td>\n",
       "      <td>15.70</td>\n",
       "      <td>71655528.0</td>\n",
       "      <td>1.137698e+09</td>\n",
       "    </tr>\n",
       "    <tr>\n",
       "      <th>2022-04-21</th>\n",
       "      <td>15.77</td>\n",
       "      <td>15.81</td>\n",
       "      <td>15.98</td>\n",
       "      <td>15.70</td>\n",
       "      <td>70989116.0</td>\n",
       "      <td>1.124664e+09</td>\n",
       "    </tr>\n",
       "    <tr>\n",
       "      <th>2022-05-05</th>\n",
       "      <td>15.20</td>\n",
       "      <td>15.32</td>\n",
       "      <td>15.45</td>\n",
       "      <td>15.15</td>\n",
       "      <td>79019620.0</td>\n",
       "      <td>1.208735e+09</td>\n",
       "    </tr>\n",
       "  </tbody>\n",
       "</table>\n",
       "</div>"
      ],
      "text/plain": [
       "             open  close   high    low      volume         money\n",
       "2022-03-02  15.79  15.68  15.87  15.66  76076086.0  1.196322e+09\n",
       "2022-03-03  15.73  15.71  15.81  15.63  57828505.0  9.081716e+08\n",
       "2022-04-19  15.90  15.81  15.97  15.62  82177249.0  1.294227e+09\n",
       "2022-04-20  15.81  15.85  16.05  15.70  71655528.0  1.137698e+09\n",
       "2022-04-21  15.77  15.81  15.98  15.70  70989116.0  1.124664e+09\n",
       "2022-05-05  15.20  15.32  15.45  15.15  79019620.0  1.208735e+09"
      ]
     },
     "execution_count": 14,
     "metadata": {},
     "output_type": "execute_result"
    }
   ],
   "source": [
    "# ===========================================\n",
    "# 条件选择\n",
    "# df[(df.one >= 1) & (df.one < 3)]\n",
    "df[(df['close'] > 15.0) & (df['money'] < 1.35e+9)]"
   ]
  },
  {
   "cell_type": "markdown",
   "metadata": {},
   "source": [
    "## 1.3 函数使用"
   ]
  },
  {
   "cell_type": "code",
   "execution_count": 15,
   "metadata": {},
   "outputs": [
    {
     "data": {
      "text/plain": [
       "1018.3299999999999"
      ]
     },
     "execution_count": 15,
     "metadata": {},
     "output_type": "execute_result"
    }
   ],
   "source": [
    "# 利用std(), max(), min()计算标准偏差、最大和最小值\n",
    "# 计算收盘价之和\n",
    "df['close'].sum()"
   ]
  },
  {
   "cell_type": "markdown",
   "metadata": {},
   "source": [
    "## 1.4 均线值获取"
   ]
  },
  {
   "cell_type": "code",
   "execution_count": 6,
   "metadata": {},
   "outputs": [
    {
     "data": {
      "text/plain": [
       "array([14.83, 14.4, 14.39, 14.19, 14.18])"
      ]
     },
     "execution_count": 6,
     "metadata": {},
     "output_type": "execute_result"
    }
   ],
   "source": [
    "# 获取倒数5天的收盘价\n",
    "close_data['close'][-5:]"
   ]
  },
  {
   "cell_type": "code",
   "execution_count": 7,
   "metadata": {},
   "outputs": [],
   "source": [
    "# 获取5天的均值\n",
    "MA5 = close_data['close'][-5:].mean()"
   ]
  },
  {
   "cell_type": "code",
   "execution_count": 8,
   "metadata": {},
   "outputs": [
    {
     "data": {
      "text/plain": [
       "14.398000000000001"
      ]
     },
     "execution_count": 8,
     "metadata": {},
     "output_type": "execute_result"
    }
   ],
   "source": [
    "MA5"
   ]
  },
  {
   "cell_type": "markdown",
   "metadata": {},
   "source": [
    "# 2. 图形绘制"
   ]
  },
  {
   "cell_type": "markdown",
   "metadata": {},
   "source": [
    "## 2.1 Dataframe直接绘图"
   ]
  },
  {
   "cell_type": "code",
   "execution_count": 13,
   "metadata": {},
   "outputs": [
    {
     "data": {
      "text/plain": [
       "<matplotlib.axes._subplots.AxesSubplot at 0x7f92d7ebef60>"
      ]
     },
     "execution_count": 13,
     "metadata": {},
     "output_type": "execute_result"
    },
    {
     "data": {
      "image/png": "[encoded data removed]",
      "text/plain": [
       "<Figure size 432x288 with 1 Axes>"
      ]
     },
     "metadata": {
      "needs_background": "light"
     },
     "output_type": "display_data"
    }
   ],
   "source": [
    "import numpy as np \n",
    "import pandas as pd\n",
    "from matplotlib import pyplot as plt\n",
    "# 招商银行 600036.XSHG\n",
    "df = get_price('600036.XSHG',start_date='2022-03-1', end_date='2022-06-10', frequency='daily')\n",
    "df.close.plot(color='red')  # 绘制收盘价\n",
    "df.open.plot(color='blue')  # 绘制开盘价"
   ]
  },
  {
   "cell_type": "markdown",
   "metadata": {},
   "source": [
    "## 2.2 matplotlib绘图"
   ]
  },
  {
   "cell_type": "code",
   "execution_count": 16,
   "metadata": {
    "scrolled": true
   },
   "outputs": [
    {
     "data": {
      "text/html": [
       "<div>\n",
       "<style scoped>\n",
       "    .dataframe tbody tr th:only-of-type {\n",
       "        vertical-align: middle;\n",
       "    }\n",
       "\n",
       "    .dataframe tbody tr th {\n",
       "        vertical-align: top;\n",
       "    }\n",
       "\n",
       "    .dataframe thead th {\n",
       "        text-align: right;\n",
       "    }\n",
       "</style>\n",
       "<table border=\"1\" class=\"dataframe\">\n",
       "  <thead>\n",
       "    <tr style=\"text-align: right;\">\n",
       "      <th></th>\n",
       "      <th>open</th>\n",
       "      <th>close</th>\n",
       "      <th>high</th>\n",
       "      <th>low</th>\n",
       "      <th>volume</th>\n",
       "      <th>money</th>\n",
       "    </tr>\n",
       "  </thead>\n",
       "  <tbody>\n",
       "    <tr>\n",
       "      <th>2022-03-01</th>\n",
       "      <td>50.00</td>\n",
       "      <td>50.24</td>\n",
       "      <td>50.50</td>\n",
       "      <td>49.36</td>\n",
       "      <td>40645436.0</td>\n",
       "      <td>2.027738e+09</td>\n",
       "    </tr>\n",
       "    <tr>\n",
       "      <th>2022-03-02</th>\n",
       "      <td>49.80</td>\n",
       "      <td>49.47</td>\n",
       "      <td>50.23</td>\n",
       "      <td>49.44</td>\n",
       "      <td>39707598.0</td>\n",
       "      <td>1.972076e+09</td>\n",
       "    </tr>\n",
       "    <tr>\n",
       "      <th>2022-03-03</th>\n",
       "      <td>49.58</td>\n",
       "      <td>49.73</td>\n",
       "      <td>49.97</td>\n",
       "      <td>49.45</td>\n",
       "      <td>31128967.0</td>\n",
       "      <td>1.546032e+09</td>\n",
       "    </tr>\n",
       "    <tr>\n",
       "      <th>2022-03-04</th>\n",
       "      <td>49.25</td>\n",
       "      <td>48.70</td>\n",
       "      <td>49.39</td>\n",
       "      <td>48.50</td>\n",
       "      <td>57789720.0</td>\n",
       "      <td>2.818734e+09</td>\n",
       "    </tr>\n",
       "    <tr>\n",
       "      <th>2022-03-07</th>\n",
       "      <td>48.01</td>\n",
       "      <td>46.76</td>\n",
       "      <td>48.26</td>\n",
       "      <td>46.50</td>\n",
       "      <td>101435369.0</td>\n",
       "      <td>4.773666e+09</td>\n",
       "    </tr>\n",
       "  </tbody>\n",
       "</table>\n",
       "</div>"
      ],
      "text/plain": [
       "             open  close   high    low       volume         money\n",
       "2022-03-01  50.00  50.24  50.50  49.36   40645436.0  2.027738e+09\n",
       "2022-03-02  49.80  49.47  50.23  49.44   39707598.0  1.972076e+09\n",
       "2022-03-03  49.58  49.73  49.97  49.45   31128967.0  1.546032e+09\n",
       "2022-03-04  49.25  48.70  49.39  48.50   57789720.0  2.818734e+09\n",
       "2022-03-07  48.01  46.76  48.26  46.50  101435369.0  4.773666e+09"
      ]
     },
     "execution_count": 16,
     "metadata": {},
     "output_type": "execute_result"
    }
   ],
   "source": [
    "import numpy as np \n",
    "import pandas as pd\n",
    "from matplotlib import pyplot as plt\n",
    "# 招商银行 600036.XSHG\n",
    "df = get_price('600036.XSHG',start_date='2022-03-1', end_date='2022-06-10', frequency='daily')\n",
    "df.head()"
   ]
  },
  {
   "cell_type": "markdown",
   "metadata": {},
   "source": [
    "### 2.2.1 subplot函数"
   ]
  },
  {
   "cell_type": "code",
   "execution_count": null,
   "metadata": {},
   "outputs": [],
   "source": [
    "# nrows 与 ncols 表示要划分几行几列的子区域（nrows*nclos表示子图数量），index 的初始值为1，用来选定具体的某个子区域。\n",
    "# plt.subplot(nrows, ncols, index)，可以不要逗号进行缩写"
   ]
  },
  {
   "cell_type": "code",
   "execution_count": 17,
   "metadata": {},
   "outputs": [
    {
     "data": {
      "image/png": "[encoded data removed]",
      "text/plain": [
       "<Figure size 864x432 with 2 Axes>"
      ]
     },
     "metadata": {
      "needs_background": "light"
     },
     "output_type": "display_data"
    }
   ],
   "source": [
    "close = df['close']   # 收盘价\n",
    "volume = df['volume']  # 成交量\n",
    "plt.figure(figsize=[12, 6])\n",
    "#激活第一个subplot\n",
    "plt.subplot(2, 1, 1)   # nrows, ncols, index\n",
    "plt.plot(close, \"-b\")  # 实线蓝色\n",
    "plt.title('收盘价走势')\n",
    "plt.subplot(2, 1, 2)\n",
    "plt.plot(volume, \"-r\")  # 实现红色\n",
    "plt.title('成交量走势')\n",
    "plt.show()"
   ]
  },
  {
   "cell_type": "markdown",
   "metadata": {},
   "source": [
    "### 2.2.2 add_axes()函数"
   ]
  },
  {
   "cell_type": "code",
   "execution_count": 18,
   "metadata": {},
   "outputs": [
    {
     "data": {
      "image/png": "[encoded data removed]",
      "text/plain": [
       "<Figure size 432x288 with 2 Axes>"
      ]
     },
     "metadata": {
      "needs_background": "light"
     },
     "output_type": "display_data"
    }
   ],
   "source": [
    "#新建figure\n",
    "fig = plt.figure()\n",
    "myc1 = df['close']   #收盘价\n",
    "#新建区域ax1\n",
    "#figure的百分比,从figure 10%的位置开始绘制, 宽高是figure的80%\n",
    "left, bottom, width, height = 0.1, 0.1, 0.8, 0.8\n",
    "# 获得绘制的句柄\n",
    "ax1 = fig.add_axes([left, bottom, width, height])\n",
    "ax1.plot(myc1, 'c')\n",
    "ax1.set_title('新建区域')\n",
    "#新增区域ax2,嵌套在ax1内\n",
    "left, bottom, width, height = 0.2, 0.6, 0.25, 0.25\n",
    "# 获得绘制的句柄\n",
    "ax2 = fig.add_axes([left, bottom, width, height])\n",
    "ax2.plot(myc1, 'm')\n",
    "ax2.set_title('嵌套区域')\n",
    "plt.show()"
   ]
  },
  {
   "cell_type": "markdown",
   "metadata": {},
   "source": [
    "### 2.2.3 legend()函数"
   ]
  },
  {
   "cell_type": "code",
   "execution_count": 24,
   "metadata": {},
   "outputs": [
    {
     "data": {
      "image/png": "[encoded data removed]",
      "text/plain": [
       "<Figure size 720x216 with 2 Axes>"
      ]
     },
     "metadata": {
      "needs_background": "light"
     },
     "output_type": "display_data"
    }
   ],
   "source": [
    "import numpy as np  \n",
    "import pandas as pd\n",
    "import matplotlib.pyplot as plt  \n",
    "df = get_price('600036.XSHG',start_date='2022-03-1', end_date='2022-6-12', frequency='daily')\n",
    "close = df['close']   #收盘价\n",
    "volume = df['volume']   #成交量\n",
    "matplotlib.rcParams.update({'font.size': 15, 'font.family': 'serif'})\n",
    "fig, axes = plt.subplots(1, 2, figsize=(10,3))\n",
    "axes[0].plot(close, label=\"招商银行的收盘价\")\n",
    "axes[0].plot(volume, label=\"招商银行的成交量\")\n",
    "axes[0].legend(loc=2); # 左上角\n",
    "axes[0].set_xlabel('招商银行的日期')\n",
    "axes[0].set_ylabel('招商银行的收盘价和成交量')\n",
    "axes[0].set_title('招商银行的日线图')\n",
    "axes[0].grid(True)\n",
    "\n",
    "money = df['money']   # 成交量\n",
    "axes[1].plot(money, label=\"招商银行的成交量\")\n",
    "axes[1].legend(loc=0)\n",
    "axes[0].set_xlabel('招商银行的日期')\n",
    "axes[1].set_ylabel('招商银行的成交量')\n",
    "axes[1].set_title('招商银行的日线图')\n",
    "axes[1].grid(True)"
   ]
  },
  {
   "cell_type": "markdown",
   "metadata": {},
   "source": [
    "参考原文链接：https://blog.csdn.net/Corollary/article/details/105391017\n",
    "\n",
    "格式化字符\n",
    "格式\t样式\n",
    "'-'\t实线样式\n",
    "'–'\t短横线样式\n",
    "'-.'\t点划线样式\n",
    "':'\t虚线样式\n",
    "'.'\t点标记\n",
    "','\t像素标记\n",
    "'o'\t圆标记\n",
    "'v'\t倒三角标记\n",
    "'^'\t正三角标记\n",
    "'<'\t左三角标记\n",
    "'>'\t右三角标记\n",
    "'1'\t下箭头标记\n",
    "'2'\t上箭头标记\n",
    "'3'\t左箭头标记\n",
    "'4'\t右箭头标记\n",
    "'s'\t正方形标记\n",
    "'p'\t五边形标记\n",
    "'*'\t星形标记\n",
    "“h”\t六边形标记 1\n",
    "“H”\t六边形标记 2\n",
    "'+'\t加号标记\n",
    "“x”\tX 标记\n",
    "“D”\t菱形标记\n",
    "'d'\t窄菱形标记\n",
    "'|'\t竖直线标记\n",
    "'_'\t水平线标记\n",
    "\n",
    "常用色彩\n",
    "代码\t色彩\n",
    "'b'\t蓝色\n",
    "'g'\t绿色\n",
    "'r'\t红色\n",
    "'c'\t青色\n",
    "'m'\t品红色\n",
    "“和”\t黄色\n",
    "'k'\t黑色\n",
    "“在”\t白色"
   ]
  },
  {
   "cell_type": "markdown",
   "metadata": {},
   "source": [
    "参考链接：https://www.jianshu.com/p/6b1dcb460f7a\n",
    "matplotlib中的legend主要用来设置图例相关的内容，其中loc用来表示图例的具体位置，他的可选的参数可以是字符，也可以是数字，默认情况下是0（即best），参数及意思如下：\n",
    "0: ‘best’ （自动寻找最好的位置）\n",
    "1: ‘upper right’ （右上角）\n",
    "2: ‘upper left’ （左上角）\n",
    "3: ‘lower left’ （左下角）\n",
    "4: ‘lower right’ （右下角）\n",
    "5: ‘right’ （右边中间）\n",
    "6: ‘center left’ （左边中间）\n",
    "7: ‘center right’ （右边中间）\n",
    "8: ‘lower center’ （中间最下面）\n",
    "9: ‘upper center’ （中间最上面）\n",
    "10: ‘center’ （正中心)"
   ]
  }
 ],
 "metadata": {
  "kernelspec": {
   "display_name": "Python 3",
   "language": "python",
   "name": "python3"
  },
  "language_info": {
   "codemirror_mode": {
    "name": "ipython",
    "version": 3
   },
   "file_extension": ".py",
   "mimetype": "text/x-python",
   "name": "python",
   "nbconvert_exporter": "python",
   "pygments_lexer": "ipython3",
   "version": "3.6.7"
  },
  "toc": {
   "base_numbering": 1,
   "nav_menu": {},
   "number_sections": false,
   "sideBar": true,
   "skip_h1_title": false,
   "title_cell": "MarkDown菜单",
   "title_sidebar": "Contents",
   "toc_cell": false,
   "toc_position": {},
   "toc_section_display": true,
   "toc_window_display": false
  }
 },
 "nbformat": 4,
 "nbformat_minor": 2
}
