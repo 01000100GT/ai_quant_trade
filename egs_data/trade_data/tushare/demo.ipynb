{
 "cells": [
  {
   "cell_type": "code",
   "source": [
    "# -*- coding: utf-8 -*-\n",
    "# @Author   : ly\n",
    "# @Time     : 2022/7/2 15:49\n",
    "# @File     : tushare_token.py\n",
    "# @Project  : ai_quant_trade\n",
    "# Copyright (c) Personal 2022 LY\n",
    "#\n",
    "# Licensed under the Apache License, Version 2.0 (the \"License\");\n",
    "# you may not use this file except in compliance with the License.\n",
    "# You may obtain a copy of the License at\n",
    "#\n",
    "#     http://www.apache.org/licenses/LICENSE-2.0\n",
    "#\n",
    "# Unless required by applicable law or agreed to in writing, software\n",
    "# distributed under the License is distributed on an \"AS IS\" BASIS,\n",
    "# WITHOUT WARRANTIES OR CONDITIONS OF ANY KIND, either express or implied.\n",
    "# See the License for the specific language governing permissions and\n",
    "# limitations under the License."
   ],
   "metadata": {
    "collapsed": false,
    "pycharm": {
     "name": "#%%\n"
    }
   },
   "execution_count": 30,
   "outputs": []
  },
  {
   "cell_type": "markdown",
   "metadata": {
    "collapsed": true,
    "pycharm": {
     "name": "#%% md\n"
    }
   },
   "source": [
    "# 1. 安装和简介\n",
    "Tushare网址: [**https://tushare.pro/**](https://tushare.pro/)\n",
    "安装\n",
    "``` sh\n",
    "pip install tushare\n",
    "```\n",
    "**注：如果大量调用，或需要获取更详细的信息，需要付费**\n",
    "- 旧版本接口将不再维护，建议使用新接口Tushare Pro (需要注册获取token)\n",
    "- 注册后在右上角用户头像--》个人主页--》获取token\n",
    "- 如果没有缴费加入会员，很多接口都无法调用(每个接口调用需要的积分数，请查看接口文档)"
   ]
  },
  {
   "cell_type": "markdown",
   "source": [
    "# 2. TuShare数据\n",
    "## 2.1 从tushare_pro获取数据"
   ],
   "metadata": {
    "collapsed": false,
    "pycharm": {
     "name": "#%% md\n"
    }
   }
  },
  {
   "cell_type": "code",
   "execution_count": 31,
   "outputs": [
    {
     "data": {
      "text/plain": "     ts_code trade_date   open   high    low  close  pre_close  change  \\\n0  601318.SH   20220701  46.70  46.98  46.12  46.31      46.69   -0.38   \n1  601318.SH   20220630  46.80  47.20  46.46  46.69      46.79   -0.10   \n2  601318.SH   20220629  46.89  47.44  46.58  46.79      46.90   -0.11   \n3  601318.SH   20220628  46.82  47.19  46.35  46.90      46.80    0.10   \n4  601318.SH   20220627  46.85  47.10  46.50  46.80      46.76    0.04   \n\n   pct_chg        vol       amount  \n0  -0.8139  357568.42  1657492.966  \n1  -0.2137  391852.66  1837626.219  \n2  -0.2345  412772.46  1939726.830  \n3   0.2137  351706.89  1642425.117  \n4   0.0855  449858.21  2106674.711  ",
      "text/html": "<div>\n<style scoped>\n    .dataframe tbody tr th:only-of-type {\n        vertical-align: middle;\n    }\n\n    .dataframe tbody tr th {\n        vertical-align: top;\n    }\n\n    .dataframe thead th {\n        text-align: right;\n    }\n</style>\n<table border=\"1\" class=\"dataframe\">\n  <thead>\n    <tr style=\"text-align: right;\">\n      <th></th>\n      <th>ts_code</th>\n      <th>trade_date</th>\n      <th>open</th>\n      <th>high</th>\n      <th>low</th>\n      <th>close</th>\n      <th>pre_close</th>\n      <th>change</th>\n      <th>pct_chg</th>\n      <th>vol</th>\n      <th>amount</th>\n    </tr>\n  </thead>\n  <tbody>\n    <tr>\n      <th>0</th>\n      <td>601318.SH</td>\n      <td>20220701</td>\n      <td>46.70</td>\n      <td>46.98</td>\n      <td>46.12</td>\n      <td>46.31</td>\n      <td>46.69</td>\n      <td>-0.38</td>\n      <td>-0.8139</td>\n      <td>357568.42</td>\n      <td>1657492.966</td>\n    </tr>\n    <tr>\n      <th>1</th>\n      <td>601318.SH</td>\n      <td>20220630</td>\n      <td>46.80</td>\n      <td>47.20</td>\n      <td>46.46</td>\n      <td>46.69</td>\n      <td>46.79</td>\n      <td>-0.10</td>\n      <td>-0.2137</td>\n      <td>391852.66</td>\n      <td>1837626.219</td>\n    </tr>\n    <tr>\n      <th>2</th>\n      <td>601318.SH</td>\n      <td>20220629</td>\n      <td>46.89</td>\n      <td>47.44</td>\n      <td>46.58</td>\n      <td>46.79</td>\n      <td>46.90</td>\n      <td>-0.11</td>\n      <td>-0.2345</td>\n      <td>412772.46</td>\n      <td>1939726.830</td>\n    </tr>\n    <tr>\n      <th>3</th>\n      <td>601318.SH</td>\n      <td>20220628</td>\n      <td>46.82</td>\n      <td>47.19</td>\n      <td>46.35</td>\n      <td>46.90</td>\n      <td>46.80</td>\n      <td>0.10</td>\n      <td>0.2137</td>\n      <td>351706.89</td>\n      <td>1642425.117</td>\n    </tr>\n    <tr>\n      <th>4</th>\n      <td>601318.SH</td>\n      <td>20220627</td>\n      <td>46.85</td>\n      <td>47.10</td>\n      <td>46.50</td>\n      <td>46.80</td>\n      <td>46.76</td>\n      <td>0.04</td>\n      <td>0.0855</td>\n      <td>449858.21</td>\n      <td>2106674.711</td>\n    </tr>\n  </tbody>\n</table>\n</div>"
     },
     "execution_count": 31,
     "metadata": {},
     "output_type": "execute_result"
    }
   ],
   "source": [
    "import tushare as ts\n",
    "import datetime\n",
    "# replace below with your token and comment my import\n",
    "# tushare_token = 'xxxx'\n",
    "from data.private.tushare_token import tushare_token\n",
    "\n",
    "# initialize api\n",
    "ts.set_token(tushare_token)\n",
    "ts_pro = ts.pro_api()\n",
    "\n",
    "# query date setting\n",
    "# date type is year-month-day\n",
    "today = datetime.date.today()\n",
    "yesterday = today - datetime.timedelta(days = 1)\n",
    "five_days_ago = today - datetime.timedelta(days = 5)\n",
    "# change date type to YearMonthDay\n",
    "yesterday = yesterday.strftime(\"%Y%m%d\")\n",
    "five_days_ago = five_days_ago.strftime(\"%Y%m%d\")\n",
    "\n",
    "# request data，中国平安: 601318.SH, date type require is: YearMonthDay\n",
    "# api website: https://tushare.pro/document/2?doc_id=27\n",
    "# !!! 警告：未复权，如果是复权请用 通用行情接口\n",
    "df = ts_pro.query('daily', ts_code='601318.SH',\n",
    "                    start_date=five_days_ago, end_date=yesterday)\n",
    "df.head()"
   ],
   "metadata": {
    "collapsed": false,
    "pycharm": {
     "name": "#%%\n"
    }
   }
  },
  {
   "cell_type": "markdown",
   "source": [
    "explanation of each column above\n",
    "\n",
    "| 名称 |\t类型 | 描述 |\n",
    "|:-------- |:-------:| ---------:|\n",
    "| ts_code |str | 股票代码 |\n",
    "| trade_date | str | 交易日期 |\n",
    "| open | float | 开盘价 |\n",
    "| high | float | 最高价 |\n",
    "| low | float | 最低价 |\n",
    "| close | float | 收盘价 |\n",
    "| pre_close | float | 昨收价 |\n",
    "| change | float | 涨跌额 |\n",
    "| pct_chg | float | 涨跌幅 （未复权，如果是复权请用 通用行情接口 ）\n",
    "| vol | float | 成交量 （手） |\n",
    "| amount| float |成交额 （千元）|"
   ],
   "metadata": {
    "collapsed": false,
    "pycharm": {
     "name": "#%% md\n"
    }
   }
  },
  {
   "cell_type": "markdown",
   "source": [
    "## 2.2 从老接口获取数据\n",
    "此接口不稳定，连接时间有限，且不在维护"
   ],
   "metadata": {
    "collapsed": false,
    "pycharm": {
     "name": "#%% md\n"
    }
   }
  },
  {
   "cell_type": "code",
   "execution_count": 39,
   "outputs": [
    {
     "name": "stdout",
     "output_type": "stream",
     "text": [
      "本接口即将停止更新，请尽快使用Pro版接口：https://tushare.pro/document/2\n"
     ]
    },
    {
     "ename": "AttributeError",
     "evalue": "'NoneType' object has no attribute 'head'",
     "output_type": "error",
     "traceback": [
      "\u001B[1;31m---------------------------------------------------------------------------\u001B[0m",
      "\u001B[1;31mAttributeError\u001B[0m                            Traceback (most recent call last)",
      "\u001B[1;32m<ipython-input-39-af101fa00953>\u001B[0m in \u001B[0;36m<module>\u001B[1;34m\u001B[0m\n\u001B[0;32m      4\u001B[0m df_old = ts.get_hist_data(code='601318.SH',\n\u001B[0;32m      5\u001B[0m                     start=five_days_ago, end=yesterday, ktype='60')\n\u001B[1;32m----> 6\u001B[1;33m \u001B[0mdf_old\u001B[0m\u001B[1;33m.\u001B[0m\u001B[0mhead\u001B[0m\u001B[1;33m(\u001B[0m\u001B[1;33m)\u001B[0m\u001B[1;33m\u001B[0m\u001B[1;33m\u001B[0m\u001B[0m\n\u001B[0m",
      "\u001B[1;31mAttributeError\u001B[0m: 'NoneType' object has no attribute 'head'"
     ]
    }
   ],
   "source": [
    "import tushare as ts\n",
    "# 请勿配置token，否则如下api无法被识别调用，会被当做pro的接口\n",
    "# ktype: 5,15, 30, 60分钟\n",
    "df_old = ts.get_hist_data(code='601318.SH',\n",
    "                    start=five_days_ago, end=yesterday, ktype='60')\n",
    "df_old.head()"
   ],
   "metadata": {
    "collapsed": false,
    "pycharm": {
     "name": "#%%\n"
    }
   }
  },
  {
   "cell_type": "markdown",
   "source": [],
   "metadata": {
    "collapsed": false
   }
  }
 ],
 "metadata": {
  "kernelspec": {
   "name": "pycharm-5ee6fb1",
   "language": "python",
   "display_name": "PyCharm (ai_quant_trade)"
  },
  "language_info": {
   "codemirror_mode": {
    "name": "ipython",
    "version": 2
   },
   "file_extension": ".py",
   "mimetype": "text/x-python",
   "name": "python",
   "nbconvert_exporter": "python",
   "pygments_lexer": "ipython2",
   "version": "2.7.6"
  }
 },
 "nbformat": 4,
 "nbformat_minor": 0
}